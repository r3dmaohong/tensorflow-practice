{
 "cells": [
  {
   "cell_type": "code",
   "execution_count": 1,
   "metadata": {},
   "outputs": [],
   "source": [
    "import pandas as pd\n",
    "import urllib"
   ]
  },
  {
   "cell_type": "code",
   "execution_count": 2,
   "metadata": {},
   "outputs": [],
   "source": [
    "import urllib.request\n",
    "import os\n",
    "file_name = \"car.csv\"\n",
    "file_url = \"http://archive.ics.uci.edu/ml/machine-learning-databases/car/car.data\"\n",
    "if not os.path.isfile(file_name):\n",
    "    f = urllib.request.urlretrieve(file_url, file_name)"
   ]
  },
  {
   "cell_type": "code",
   "execution_count": 3,
   "metadata": {},
   "outputs": [],
   "source": [
    "dat = pd.read_csv(file_name, names = [\"buying\", \"maint\", \"doors\", \"persons\", \"lug_boot\", \"safety\", \"class\"])"
   ]
  },
  {
   "cell_type": "code",
   "execution_count": 4,
   "metadata": {},
   "outputs": [
    {
     "data": {
      "text/plain": [
       "Counter({'high': 432, 'low': 432, 'med': 432, 'vhigh': 432})"
      ]
     },
     "execution_count": 4,
     "metadata": {},
     "output_type": "execute_result"
    }
   ],
   "source": [
    "from collections import Counter\n",
    "Counter(dat.buying)"
   ]
  },
  {
   "cell_type": "code",
   "execution_count": 5,
   "metadata": {},
   "outputs": [
    {
     "name": "stdout",
     "output_type": "stream",
     "text": [
      "<class 'pandas.core.frame.DataFrame'>\n",
      "RangeIndex: 1728 entries, 0 to 1727\n",
      "Data columns (total 7 columns):\n",
      "buying      1728 non-null object\n",
      "maint       1728 non-null object\n",
      "doors       1728 non-null object\n",
      "persons     1728 non-null object\n",
      "lug_boot    1728 non-null object\n",
      "safety      1728 non-null object\n",
      "class       1728 non-null object\n",
      "dtypes: object(7)\n",
      "memory usage: 94.6+ KB\n"
     ]
    }
   ],
   "source": [
    "dat.info()"
   ]
  },
  {
   "cell_type": "code",
   "execution_count": 6,
   "metadata": {},
   "outputs": [
    {
     "data": {
      "text/html": [
       "<div>\n",
       "<style scoped>\n",
       "    .dataframe tbody tr th:only-of-type {\n",
       "        vertical-align: middle;\n",
       "    }\n",
       "\n",
       "    .dataframe tbody tr th {\n",
       "        vertical-align: top;\n",
       "    }\n",
       "\n",
       "    .dataframe thead th {\n",
       "        text-align: right;\n",
       "    }\n",
       "</style>\n",
       "<table border=\"1\" class=\"dataframe\">\n",
       "  <thead>\n",
       "    <tr style=\"text-align: right;\">\n",
       "      <th></th>\n",
       "      <th>buying_high</th>\n",
       "      <th>buying_low</th>\n",
       "      <th>buying_med</th>\n",
       "      <th>buying_vhigh</th>\n",
       "      <th>maint_high</th>\n",
       "      <th>maint_low</th>\n",
       "      <th>maint_med</th>\n",
       "      <th>maint_vhigh</th>\n",
       "      <th>doors_2</th>\n",
       "      <th>doors_3</th>\n",
       "      <th>...</th>\n",
       "      <th>lug_boot_big</th>\n",
       "      <th>lug_boot_med</th>\n",
       "      <th>lug_boot_small</th>\n",
       "      <th>safety_high</th>\n",
       "      <th>safety_low</th>\n",
       "      <th>safety_med</th>\n",
       "      <th>class_acc</th>\n",
       "      <th>class_good</th>\n",
       "      <th>class_unacc</th>\n",
       "      <th>class_vgood</th>\n",
       "    </tr>\n",
       "  </thead>\n",
       "  <tbody>\n",
       "    <tr>\n",
       "      <th>0</th>\n",
       "      <td>0</td>\n",
       "      <td>0</td>\n",
       "      <td>0</td>\n",
       "      <td>1</td>\n",
       "      <td>0</td>\n",
       "      <td>0</td>\n",
       "      <td>0</td>\n",
       "      <td>1</td>\n",
       "      <td>1</td>\n",
       "      <td>0</td>\n",
       "      <td>...</td>\n",
       "      <td>0</td>\n",
       "      <td>0</td>\n",
       "      <td>1</td>\n",
       "      <td>0</td>\n",
       "      <td>1</td>\n",
       "      <td>0</td>\n",
       "      <td>0</td>\n",
       "      <td>0</td>\n",
       "      <td>1</td>\n",
       "      <td>0</td>\n",
       "    </tr>\n",
       "    <tr>\n",
       "      <th>1</th>\n",
       "      <td>0</td>\n",
       "      <td>0</td>\n",
       "      <td>0</td>\n",
       "      <td>1</td>\n",
       "      <td>0</td>\n",
       "      <td>0</td>\n",
       "      <td>0</td>\n",
       "      <td>1</td>\n",
       "      <td>1</td>\n",
       "      <td>0</td>\n",
       "      <td>...</td>\n",
       "      <td>0</td>\n",
       "      <td>0</td>\n",
       "      <td>1</td>\n",
       "      <td>0</td>\n",
       "      <td>0</td>\n",
       "      <td>1</td>\n",
       "      <td>0</td>\n",
       "      <td>0</td>\n",
       "      <td>1</td>\n",
       "      <td>0</td>\n",
       "    </tr>\n",
       "    <tr>\n",
       "      <th>2</th>\n",
       "      <td>0</td>\n",
       "      <td>0</td>\n",
       "      <td>0</td>\n",
       "      <td>1</td>\n",
       "      <td>0</td>\n",
       "      <td>0</td>\n",
       "      <td>0</td>\n",
       "      <td>1</td>\n",
       "      <td>1</td>\n",
       "      <td>0</td>\n",
       "      <td>...</td>\n",
       "      <td>0</td>\n",
       "      <td>0</td>\n",
       "      <td>1</td>\n",
       "      <td>1</td>\n",
       "      <td>0</td>\n",
       "      <td>0</td>\n",
       "      <td>0</td>\n",
       "      <td>0</td>\n",
       "      <td>1</td>\n",
       "      <td>0</td>\n",
       "    </tr>\n",
       "  </tbody>\n",
       "</table>\n",
       "<p>3 rows × 25 columns</p>\n",
       "</div>"
      ],
      "text/plain": [
       "   buying_high  buying_low  buying_med  buying_vhigh  maint_high  maint_low  \\\n",
       "0            0           0           0             1           0          0   \n",
       "1            0           0           0             1           0          0   \n",
       "2            0           0           0             1           0          0   \n",
       "\n",
       "   maint_med  maint_vhigh  doors_2  doors_3     ...       lug_boot_big  \\\n",
       "0          0            1        1        0     ...                  0   \n",
       "1          0            1        1        0     ...                  0   \n",
       "2          0            1        1        0     ...                  0   \n",
       "\n",
       "   lug_boot_med  lug_boot_small  safety_high  safety_low  safety_med  \\\n",
       "0             0               1            0           1           0   \n",
       "1             0               1            0           0           1   \n",
       "2             0               1            1           0           0   \n",
       "\n",
       "   class_acc  class_good  class_unacc  class_vgood  \n",
       "0          0           0            1            0  \n",
       "1          0           0            1            0  \n",
       "2          0           0            1            0  \n",
       "\n",
       "[3 rows x 25 columns]"
      ]
     },
     "execution_count": 6,
     "metadata": {},
     "output_type": "execute_result"
    }
   ],
   "source": [
    "pd.get_dummies(dat, prefix=dat.columns).head(3)"
   ]
  },
  {
   "cell_type": "code",
   "execution_count": 7,
   "metadata": {},
   "outputs": [],
   "source": [
    "dat = pd.get_dummies(dat, prefix = dat.columns)"
   ]
  },
  {
   "cell_type": "code",
   "execution_count": 8,
   "metadata": {},
   "outputs": [
    {
     "name": "stderr",
     "output_type": "stream",
     "text": [
      "/Users/r3dmaohong/anaconda3/lib/python3.6/importlib/_bootstrap.py:219: RuntimeWarning: compiletime version 3.5 of module 'tensorflow.python.framework.fast_tensor_util' does not match runtime version 3.6\n",
      "  return f(*args, **kwds)\n"
     ]
    }
   ],
   "source": [
    "import tensorflow as tf\n",
    "import numpy as np\n",
    "import matplotlib.pyplot as plt\n",
    "\n",
    "\n",
    "dat = dat.values.astype(np.float32)\n",
    "np.random.shuffle(dat)\n",
    "sep = int(0.7 * len(dat))\n",
    "train_data = dat[:sep]\n",
    "test_data = dat[sep:]"
   ]
  },
  {
   "cell_type": "code",
   "execution_count": 9,
   "metadata": {},
   "outputs": [
    {
     "data": {
      "text/plain": [
       "(1728, 25)"
      ]
     },
     "execution_count": 9,
     "metadata": {},
     "output_type": "execute_result"
    }
   ],
   "source": [
    "dat.shape # Last four columns are the output classes"
   ]
  },
  {
   "cell_type": "code",
   "execution_count": 10,
   "metadata": {},
   "outputs": [
    {
     "data": {
      "text/plain": [
       "25"
      ]
     },
     "execution_count": 10,
     "metadata": {},
     "output_type": "execute_result"
    }
   ],
   "source": [
    "dat.shape[1]"
   ]
  },
  {
   "cell_type": "code",
   "execution_count": 11,
   "metadata": {},
   "outputs": [],
   "source": [
    "# https://morvanzhou.github.io/tutorials/machine-learning/ML-practice/build-car-classifier-from-scratch2/\n",
    "# Inserts a placeholder for a tensor that will be always fed.\n",
    "tf_input = tf.placeholder(tf.float32, [None, dat.shape[1]], \"input\")\n",
    "tfx = tf_input[:, :21] # except taget variables.\n",
    "tfy = tf_input[:, 21:]\n",
    "\n",
    "# Functional interface for the densely-connected layer.\n",
    "# Activation function: relu\n",
    "l1 = tf.layers.dense(tfx, 128, tf.nn.relu, name=\"l1\")\n",
    "l2 = tf.layers.dense(l1, 128, tf.nn.relu, name=\"l2\")\n",
    "out = tf.layers.dense(l2, 4, name=\"l3\") # 4 categories for the target variables.\n",
    "# When one hot encoding is been used on the target variable, using softmax method for tf may be a good choice.\n",
    "prediction = tf.nn.softmax(out, name=\"pred\")\n",
    "\n",
    "# Built-in function for caculating loss.\n",
    "loss = tf.losses.softmax_cross_entropy(onehot_labels=tfy, logits=out)\n",
    "\n",
    "# Built-in function for caculating accuracy.\n",
    "# return (acc, update_op), and create 2 local variables.\n",
    "accuracy = tf.metrics.accuracy(\n",
    "    labels=tf.argmax(tfy, axis=1), predictions=tf.argmax(out, axis=1),)[1]\n",
    "\n",
    "opt = tf.train.GradientDescentOptimizer(learning_rate=0.1)\n",
    "train_op = opt.minimize(loss)\n",
    "\n",
    "sess = tf.Session()\n",
    "#local_variables_initializer for accuracy function.\n",
    "sess.run(tf.group(tf.global_variables_initializer(), tf.local_variables_initializer()))"
   ]
  },
  {
   "cell_type": "code",
   "execution_count": 12,
   "metadata": {},
   "outputs": [
    {
     "name": "stdout",
     "output_type": "stream",
     "text": [
      "Step: 500 | Accurate: 0.93 | Loss: 0.15\n",
      "Step: 1000 | Accurate: 0.95 | Loss: 0.06\n",
      "Step: 1500 | Accurate: 0.96 | Loss: 0.05\n",
      "Step: 2000 | Accurate: 0.97 | Loss: 0.03\n",
      "Step: 2500 | Accurate: 0.97 | Loss: 0.02\n",
      "Step: 3000 | Accurate: 0.98 | Loss: 0.02\n",
      "Step: 3500 | Accurate: 0.98 | Loss: 0.02\n",
      "Step: 4000 | Accurate: 0.98 | Loss: 0.02\n",
      "Step: 4500 | Accurate: 0.98 | Loss: 0.02\n",
      "Step: 5000 | Accurate: 0.98 | Loss: 0.01\n"
     ]
    }
   ],
   "source": [
    "for t in range(1,5001):\n",
    "    # training\n",
    "    batch_index = np.random.randint(len(train_data), size=32)\n",
    "    sess.run(train_op, {tf_input: train_data[batch_index]})\n",
    "\n",
    "    if t % 500 == 0:\n",
    "        # testing\n",
    "        acc_, pred_, loss_ = sess.run([accuracy, prediction, loss], {tf_input: test_data})\n",
    "        print(\"Step: %i\" % t,\"| Accurate: %.2f\" % acc_,\"| Loss: %.2f\" % loss_,)"
   ]
  },
  {
   "cell_type": "code",
   "execution_count": 13,
   "metadata": {},
   "outputs": [
    {
     "data": {
      "text/plain": [
       "array([[  3.82039062e-12,   2.63443999e-21,   1.00000000e+00,\n",
       "          2.13099828e-25]], dtype=float32)"
      ]
     },
     "execution_count": 13,
     "metadata": {},
     "output_type": "execute_result"
    }
   ],
   "source": [
    "# Returns probability.\n",
    "sess.run(prediction, {tf_input: \n",
    "                       np.array([[ 0.,  0.,  0.,  1.,  0.,  0.,  1.,  0.,  0.,  0.,  1.,  0.,  1.,\n",
    "         0.,  0.,  0.,  0.,  1.,  1.,  0.,  0.,  0.,  0.,  1.,  0.]])\n",
    "                       })"
   ]
  },
  {
   "cell_type": "code",
   "execution_count": 14,
   "metadata": {},
   "outputs": [
    {
     "name": "stdout",
     "output_type": "stream",
     "text": [
      "predictions [2 2]\n"
     ]
    }
   ],
   "source": [
    "# Returns categories.\n",
    "#https://github.com/tensorflow/tensorflow/issues/97\n",
    "pred_output = tf.argmax(prediction,1)\n",
    "print(\"predictions\", pred_output.eval(feed_dict={tf_input:\n",
    "                                                np.array([[ 0.,  0.,  0.,  1.,  0.,  0.,  1.,  0.,  0.,  0.,  1.,  0.,  1.,\n",
    "         0.,  0.,  0.,  0.,  1.,  1.,  0.,  0.,  0.,  0.,  1.,  0.],\n",
    "                                                         [ 1.,  1.,  1,  1.,  0.,  0.,  1.,  0.,  1.,  0.,  1.,  0.,  1.,\n",
    "         1.,  1.,  1.,  0.,  1.,  1.,  1.,  0.,  0.,  1.,  1.,  0.]])\n",
    "                                                }, session=sess) )"
   ]
  },
  {
   "cell_type": "code",
   "execution_count": 15,
   "metadata": {},
   "outputs": [
    {
     "data": {
      "text/plain": [
       "array([2, 2, 2, 2, 2, 2, 2, 2, 2, 2, 2, 0, 2, 1, 2, 2, 2, 2, 2, 0, 2, 0, 0,\n",
       "       2, 1, 1, 2, 2, 2, 0, 2, 2, 0, 2, 0, 2, 2, 2, 2, 2, 2, 2, 0, 2, 2, 0,\n",
       "       2, 2, 0, 1, 0, 2, 0, 2, 0, 2, 3, 0, 2, 2, 2, 2, 2, 0, 3, 2, 2, 2, 2,\n",
       "       2, 2, 2, 2, 2, 0, 2, 2, 0, 2, 2, 0, 0, 2, 2, 2, 0, 2, 1, 2, 0, 2, 0,\n",
       "       0, 2, 0, 0, 2, 2, 2, 0, 2, 0, 2, 0, 2, 2, 2, 2, 2, 3, 0, 0, 2, 2, 1,\n",
       "       0, 0, 2, 2, 2, 2, 2, 2, 2, 0, 2, 2, 2, 2, 2, 2, 2, 2, 3, 2, 2, 2, 2,\n",
       "       2, 2, 0, 0, 0, 2, 0, 2, 2, 2, 2, 2, 2, 0, 2, 0, 0, 2, 0, 0, 3, 2, 2,\n",
       "       2, 2, 2, 2, 2, 2, 2, 0, 0, 2, 0, 3, 2, 2, 0, 2, 2, 2, 2, 2, 2, 2, 3,\n",
       "       0, 3, 0, 2, 0, 1, 2, 2, 0, 2, 2, 2, 2, 2, 2, 2, 2, 2, 2, 2, 2, 2, 0,\n",
       "       2, 2, 2, 2, 2, 0, 2, 3, 2, 2, 0, 0, 2, 0, 0, 2, 2, 2, 2, 2, 2, 2, 2,\n",
       "       0, 2, 2, 0, 0, 2, 2, 2, 2, 2, 2, 0, 2, 3, 2, 2, 2, 0, 2, 2, 0, 2, 2,\n",
       "       0, 2, 2, 2, 2, 2, 2, 2, 2, 2, 0, 2, 2, 0, 0, 2, 2, 1, 0, 2, 2, 2, 2,\n",
       "       2, 2, 1, 0, 2, 2, 2, 2, 2, 1, 2, 2, 2, 0, 0, 2, 2, 2, 0, 0, 2, 2, 2,\n",
       "       2, 2, 2, 2, 2, 2, 0, 0, 2, 1, 3, 2, 0, 2, 2, 2, 0, 2, 2, 2, 2, 2, 2,\n",
       "       2, 2, 2, 2, 2, 2, 0, 3, 2, 2, 2, 0, 0, 1, 2, 3, 2, 2, 2, 2, 2, 1, 2,\n",
       "       0, 2, 2, 2, 2, 2, 1, 0, 2, 2, 2, 2, 2, 2, 0, 0, 2, 2, 2, 2, 3, 0, 2,\n",
       "       2, 2, 2, 2, 2, 0, 2, 0, 2, 0, 0, 0, 2, 2, 2, 0, 2, 2, 2, 2, 2, 2, 1,\n",
       "       0, 2, 2, 2, 2, 2, 2, 2, 2, 2, 0, 0, 2, 2, 2, 2, 0, 2, 2, 2, 0, 2, 2,\n",
       "       2, 2, 2, 3, 0, 2, 0, 0, 2, 0, 0, 2, 2, 1, 2, 2, 0, 2, 2, 2, 2, 2, 2,\n",
       "       2, 2, 0, 0, 2, 2, 2, 2, 2, 2, 2, 2, 2, 2, 2, 0, 0, 2, 0, 0, 3, 2, 0,\n",
       "       2, 1, 2, 2, 0, 2, 3, 2, 0, 2, 3, 2, 2, 2, 2, 0, 2, 3, 2, 2, 2, 0, 2,\n",
       "       2, 2, 2, 2, 2, 2, 2, 2, 2, 0, 2, 2, 2, 2, 2, 2, 2, 0, 2, 2, 2, 0, 0,\n",
       "       2, 0, 2, 2, 1, 2, 2, 2, 2, 0, 2, 2, 2])"
      ]
     },
     "execution_count": 15,
     "metadata": {},
     "output_type": "execute_result"
    }
   ],
   "source": [
    "# Get prediction result.\n",
    "pred_output.eval(feed_dict={tf_input:test_data}, session=sess)"
   ]
  },
  {
   "cell_type": "code",
   "execution_count": 16,
   "metadata": {},
   "outputs": [
    {
     "data": {
      "text/plain": [
       "array([2, 2, 2, 2, 2, 2, 2, 2, 2, 2, 2, 0, 2, 1, 2, 2, 2, 2, 2, 0, 2, 0, 0,\n",
       "       2, 1, 1, 2, 2, 2, 0, 2, 2, 0, 2, 0, 2, 2, 2, 2, 2, 2, 2, 0, 2, 2, 0,\n",
       "       2, 2, 0, 1, 0, 2, 0, 2, 0, 2, 3, 0, 2, 2, 2, 2, 2, 0, 3, 2, 2, 2, 2,\n",
       "       2, 2, 2, 2, 2, 0, 2, 2, 0, 2, 2, 0, 0, 2, 2, 2, 0, 2, 3, 2, 0, 2, 0,\n",
       "       0, 2, 0, 0, 2, 2, 2, 0, 2, 0, 2, 0, 2, 2, 2, 2, 2, 3, 0, 0, 2, 2, 1,\n",
       "       0, 0, 2, 2, 2, 2, 2, 2, 2, 0, 2, 2, 2, 2, 2, 2, 2, 2, 3, 2, 2, 2, 2,\n",
       "       2, 2, 0, 0, 0, 2, 0, 2, 2, 2, 2, 2, 2, 0, 2, 0, 0, 2, 0, 0, 3, 2, 2,\n",
       "       2, 2, 2, 2, 2, 2, 2, 0, 0, 2, 0, 3, 2, 2, 0, 2, 2, 2, 2, 2, 2, 2, 3,\n",
       "       0, 3, 0, 2, 3, 1, 2, 2, 0, 2, 2, 2, 2, 2, 2, 2, 2, 2, 2, 2, 2, 2, 0,\n",
       "       2, 2, 2, 2, 2, 0, 2, 3, 2, 2, 0, 0, 2, 0, 0, 2, 2, 2, 2, 2, 2, 2, 2,\n",
       "       0, 2, 2, 0, 0, 2, 2, 2, 2, 2, 2, 0, 2, 3, 2, 2, 2, 0, 2, 2, 0, 2, 2,\n",
       "       0, 2, 2, 2, 2, 2, 2, 2, 2, 2, 0, 2, 2, 0, 0, 2, 2, 1, 0, 2, 2, 2, 2,\n",
       "       2, 2, 1, 0, 2, 2, 2, 2, 2, 1, 2, 2, 2, 0, 0, 2, 2, 2, 0, 0, 2, 2, 2,\n",
       "       2, 2, 2, 2, 2, 2, 0, 0, 2, 1, 3, 2, 0, 2, 2, 2, 0, 2, 2, 2, 2, 2, 2,\n",
       "       2, 2, 2, 2, 2, 2, 0, 3, 2, 2, 2, 0, 0, 1, 2, 3, 2, 2, 2, 2, 2, 1, 2,\n",
       "       0, 2, 2, 2, 2, 2, 1, 0, 2, 2, 2, 2, 2, 2, 0, 0, 2, 2, 2, 2, 3, 0, 2,\n",
       "       2, 2, 2, 2, 2, 0, 2, 0, 2, 0, 0, 0, 2, 2, 2, 0, 2, 2, 2, 2, 2, 2, 1,\n",
       "       0, 2, 2, 2, 2, 2, 2, 2, 2, 2, 0, 0, 2, 2, 2, 2, 0, 2, 2, 2, 0, 2, 2,\n",
       "       2, 2, 2, 3, 0, 2, 0, 0, 2, 0, 0, 2, 2, 1, 2, 2, 0, 2, 2, 2, 2, 2, 2,\n",
       "       2, 2, 0, 0, 2, 2, 2, 2, 2, 2, 2, 2, 2, 2, 2, 0, 0, 2, 0, 0, 3, 2, 0,\n",
       "       2, 1, 2, 2, 0, 2, 3, 2, 0, 2, 3, 2, 2, 2, 2, 0, 2, 3, 2, 2, 2, 0, 2,\n",
       "       2, 2, 2, 2, 2, 2, 2, 2, 2, 0, 2, 2, 2, 2, 2, 2, 2, 0, 2, 2, 2, 0, 0,\n",
       "       2, 0, 2, 2, 1, 2, 2, 2, 2, 0, 2, 2, 2])"
      ]
     },
     "execution_count": 16,
     "metadata": {},
     "output_type": "execute_result"
    }
   ],
   "source": [
    "## https://stackoverflow.com/questions/26762100/reconstruct-a-categorical-variable-from-dummies-in-pandas\n",
    "# Reconstruct dummy variables.\n",
    "x = pd.DataFrame(test_data[:,21:25])\n",
    "np.array(x.idxmax(axis=1))"
   ]
  },
  {
   "cell_type": "code",
   "execution_count": 17,
   "metadata": {},
   "outputs": [
    {
     "data": {
      "text/plain": [
       "Counter({False: 2, True: 517})"
      ]
     },
     "execution_count": 17,
     "metadata": {},
     "output_type": "execute_result"
    }
   ],
   "source": [
    "Counter(np.array(x.idxmax(axis=1)) == pred_output.eval(feed_dict={tf_input:test_data}, session=sess))"
   ]
  },
  {
   "cell_type": "code",
   "execution_count": null,
   "metadata": {},
   "outputs": [],
   "source": []
  }
 ],
 "metadata": {
  "kernelspec": {
   "display_name": "Python 3",
   "language": "python",
   "name": "python3"
  },
  "language_info": {
   "codemirror_mode": {
    "name": "ipython",
    "version": 3
   },
   "file_extension": ".py",
   "mimetype": "text/x-python",
   "name": "python",
   "nbconvert_exporter": "python",
   "pygments_lexer": "ipython3",
   "version": "3.6.3"
  }
 },
 "nbformat": 4,
 "nbformat_minor": 2
}
