{
 "cells": [
  {
   "cell_type": "code",
   "execution_count": 1,
   "metadata": {},
   "outputs": [
    {
     "name": "stderr",
     "output_type": "stream",
     "text": [
      "/Users/r3dmaohong/anaconda3/lib/python3.6/importlib/_bootstrap.py:219: RuntimeWarning: compiletime version 3.5 of module 'tensorflow.python.framework.fast_tensor_util' does not match runtime version 3.6\n",
      "  return f(*args, **kwds)\n"
     ]
    }
   ],
   "source": [
    "import tensorflow as tf\n",
    "import numpy as np\n",
    "import math, random\n",
    "import matplotlib.pyplot as plt"
   ]
  },
  {
   "cell_type": "code",
   "execution_count": 2,
   "metadata": {},
   "outputs": [],
   "source": [
    "NUM_points = 1000\n",
    "np.random.seed(NUM_points)\n",
    "function_to_learn = lambda x: np.cos(x) + 0.1*np.random.rand(*x.shape)"
   ]
  },
  {
   "cell_type": "code",
   "execution_count": 8,
   "metadata": {},
   "outputs": [],
   "source": [
    "layer_1_neurons = 10\n",
    "\n",
    "batch_size = 100\n",
    "NUM_EPOCHS = 1500"
   ]
  },
  {
   "cell_type": "code",
   "execution_count": 9,
   "metadata": {},
   "outputs": [],
   "source": [
    "all_x = np.float32(np.random.uniform(low = -2*math.pi, high = 2*math.pi, size = (1, NUM_points))).T\n",
    "np.random.shuffle(all_x)\n",
    "train_size = int(900)"
   ]
  },
  {
   "cell_type": "code",
   "execution_count": 12,
   "metadata": {},
   "outputs": [],
   "source": [
    "x_training = all_x[:train_size]\n",
    "y_training = function_to_learn(x_training)\n",
    "\n",
    "x_validation = all_x[train_size:]\n",
    "y_validation = function_to_learn(x_validation)"
   ]
  },
  {
   "cell_type": "code",
   "execution_count": 13,
   "metadata": {},
   "outputs": [
    {
     "data": {
      "image/png": "[encoded data removed]",
      "text/plain": [
       "<matplotlib.figure.Figure at 0x1814390048>"
      ]
     },
     "metadata": {},
     "output_type": "display_data"
    }
   ],
   "source": [
    "plt.figure(1)\n",
    "plt.scatter(x_training, y_training, c='blue', label='train')\n",
    "plt.scatter(x_validation, y_validation, c='red', label='validation')\n",
    "plt.legend()\n",
    "plt.show()"
   ]
  },
  {
   "cell_type": "code",
   "execution_count": null,
   "metadata": {},
   "outputs": [],
   "source": []
  },
  {
   "cell_type": "code",
   "execution_count": 15,
   "metadata": {},
   "outputs": [],
   "source": [
    "X = tf.placeholder(tf.float32, [None, 1], name='X')\n",
    "Y = tf.placeholder(tf.float32, [None, 1], name='Y')"
   ]
  },
  {
   "cell_type": "code",
   "execution_count": 16,
   "metadata": {},
   "outputs": [],
   "source": [
    "# weights\n",
    "w_h = tf.Variable(tf.random_uniform([1, layer_1_neurons], minval=-1, maxval=1))"
   ]
  },
  {
   "cell_type": "code",
   "execution_count": 17,
   "metadata": {},
   "outputs": [],
   "source": [
    "# biases\n",
    "b_h = tf.Variable(tf.zeros([1, layer_1_neurons]))"
   ]
  },
  {
   "cell_type": "code",
   "execution_count": 18,
   "metadata": {},
   "outputs": [],
   "source": [
    "h = tf.nn.sigmoid(tf.matmul(X, w_h) + b_h)"
   ]
  },
  {
   "cell_type": "code",
   "execution_count": 19,
   "metadata": {},
   "outputs": [],
   "source": [
    "w_o = tf.Variable(tf.random_uniform(shape=[layer_1_neurons, 1], minval=-1, maxval=1))\n",
    "b_o = tf.Variable(tf.zeros([1,1]))"
   ]
  },
  {
   "cell_type": "code",
   "execution_count": 20,
   "metadata": {},
   "outputs": [],
   "source": [
    "model = tf.matmul(h, w_o) + b_o"
   ]
  },
  {
   "cell_type": "code",
   "execution_count": 21,
   "metadata": {},
   "outputs": [],
   "source": [
    "train_optimizer = tf.train.AdamOptimizer().minimize(tf.nn.l2_loss(model-Y))"
   ]
  },
  {
   "cell_type": "code",
   "execution_count": 25,
   "metadata": {},
   "outputs": [
    {
     "name": "stdout",
     "output_type": "stream",
     "text": [
      "Epoch 1, cost: 78.7551\n",
      "Epoch 100, cost: 25.2651\n",
      "Epoch 200, cost: 24.7597\n",
      "Epoch 300, cost: 23.3047\n",
      "Epoch 400, cost: 21.0467\n",
      "Epoch 500, cost: 18.6387\n",
      "Epoch 600, cost: 16.2209\n",
      "Epoch 700, cost: 14.0814\n",
      "Epoch 800, cost: 12.0693\n",
      "Epoch 900, cost: 9.54428\n",
      "Epoch 1000, cost: 6.2716\n",
      "Epoch 1100, cost: 3.53037\n",
      "Epoch 1200, cost: 1.68983\n",
      "Epoch 1300, cost: 0.725314\n",
      "Epoch 1400, cost: 0.329039\n",
      "Epoch 1500, cost: 0.19905\n"
     ]
    }
   ],
   "source": [
    "init = tf.global_variables_initializer()\n",
    "\n",
    "with tf.Session() as sess:\n",
    "    sess.run(init)\n",
    "    errors = []\n",
    "    for i in range(NUM_EPOCHS):\n",
    "        for start, end in zip( range(0, len(x_training), batch_size), range(batch_size, len(x_training), batch_size) ):\n",
    "            sess.run(train_optimizer, feed_dict={X:x_training[start:end], Y:y_training[start:end]})\n",
    "        cost = sess.run(tf.nn.l2_loss(model - y_validation), feed_dict={X:x_validation})\n",
    "        errors.append(cost)\n",
    "        if ((i+1)%100==0) | (i==0):\n",
    "            print('Epoch %d, cost: %g' % (i+1, cost))"
   ]
  },
  {
   "cell_type": "code",
   "execution_count": 26,
   "metadata": {},
   "outputs": [
    {
     "data": {
      "image/png": "[encoded data removed]",
      "text/plain": [
       "<matplotlib.figure.Figure at 0x1822951668>"
      ]
     },
     "metadata": {},
     "output_type": "display_data"
    }
   ],
   "source": [
    "plt.plot(errors, label='MLP Function Approximation')\n",
    "plt.xlabel('epochs')\n",
    "plt.ylabel('cost')\n",
    "plt.legend()\n",
    "plt.show()"
   ]
  },
  {
   "cell_type": "code",
   "execution_count": null,
   "metadata": {},
   "outputs": [],
   "source": []
  }
 ],
 "metadata": {
  "kernelspec": {
   "display_name": "Python 3",
   "language": "python",
   "name": "python3"
  },
  "language_info": {
   "codemirror_mode": {
    "name": "ipython",
    "version": 3
   },
   "file_extension": ".py",
   "mimetype": "text/x-python",
   "name": "python",
   "nbconvert_exporter": "python",
   "pygments_lexer": "ipython3",
   "version": "3.6.3"
  }
 },
 "nbformat": 4,
 "nbformat_minor": 2
}
